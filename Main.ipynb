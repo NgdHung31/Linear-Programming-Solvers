{
 "cells": [
  {
   "cell_type": "code",
   "execution_count": 37,
   "metadata": {},
   "outputs": [],
   "source": [
    "import numpy as np\n",
    "import pandas as pd"
   ]
  },
  {
   "attachments": {},
   "cell_type": "markdown",
   "metadata": {},
   "source": [
    "# Chương trình nhập liệu từ bàn phím"
   ]
  },
  {
   "cell_type": "code",
   "execution_count": 38,
   "metadata": {},
   "outputs": [],
   "source": [
    "MinMax = int(input(\"Nhập min/max của hàm mục tiêu (0 là min, 1 là max): \"))\n",
    "variables = int(input(\"Nhập số lượng biến: \"))\n",
    "quantity = int(input(\"Nhập số lượng ràng buộc: \"))"
   ]
  },
  {
   "attachments": {},
   "cell_type": "markdown",
   "metadata": {},
   "source": [
    "## Hàm mục tiêu"
   ]
  },
  {
   "attachments": {},
   "cell_type": "markdown",
   "metadata": {},
   "source": [
    "##Cần sửa"
   ]
  },
  {
   "cell_type": "code",
   "execution_count": 39,
   "metadata": {},
   "outputs": [
    {
     "name": "stdout",
     "output_type": "stream",
     "text": [
      "Nhap cac he so cua ham muc tieu: \n",
      "Ham muc tieu: Max  1*x1 + 3*x2 + 2*x3"
     ]
    }
   ],
   "source": [
    "arrayObj_func = {}                                                     # Khởi tạo arrayObj_func , type = dict{}. Mục đích là để lưu các hệ số của từng biến\n",
    "                                                                       # trong hàm mục tiêu\n",
    "print(\"Nhap cac he so cua ham muc tieu: \")\n",
    "for i in range(1, variables + 1):                                      # vòng lặp để nhập hệ số của các biến trong hàm mục tiêu\n",
    "    arrayObj_func['x' + str(i)] = int(input('He so cua x' + str(i) + ' cua ham muc tieu'))   # lưu các hệ số đó vào arrayObj_func, với mỗi xi tương ứng. vđ {'x1': 1, 'x2': 3}\n",
    "\n",
    "#Tiếp theo là in ra hàm mục tiêu\n",
    "print(\"Ham muc tieu: \", end='')                                        \n",
    "if MinMax == 0:\n",
    "    print('Min ', end='')\n",
    "else:\n",
    "    print('Max ', end='')\n",
    "for i in range(1, variables + 1):\n",
    "    if i != 1 and arrayObj_func['x' + str(i)] > 0:                     # Nếu hệ số không phải là của x1 và hệ số dương thì in thêm dấu '+' trước hệ số\n",
    "        print(' + ', end='')\n",
    "    else:\n",
    "        print(' ', end='')                                             # Nếu hệ số là của x1 và hệ số âm thì chỉ cần thêm vào 1 khoảng trống trước hệ số\n",
    "    print(str(arrayObj_func['x' + str(i)]) + '*x' + str(i), end='')    # In ra giá trị của hệ số\n",
    "    "
   ]
  },
  {
   "attachments": {},
   "cell_type": "markdown",
   "metadata": {},
   "source": [
    "## Các ràng buộc"
   ]
  },
  {
   "cell_type": "code",
   "execution_count": 40,
   "metadata": {},
   "outputs": [
    {
     "name": "stdout",
     "output_type": "stream",
     "text": [
      "Nhap cac he so cua cac rang buoc va gioi han cua no: \n",
      "Rang buoc thu  1\n",
      "Rang buoc thu  2\n",
      "Rang buoc thu  3\n"
     ]
    }
   ],
   "source": [
    "arrayQuantity = {}                                                    # Khởi tạo arrayObj_func , type = dict{}. Mục đích là để lưu các hệ số của từng biến\n",
    "                                                                      # trong các ràng buộc\n",
    "for i in range(1, variables + 1):\n",
    "    arrayQuantity['x' + str(i)] = [0 for j in range(quantity)]        # Cách làm tương tự như hàm mục tiêu, nhưng đầu tiên sẽ khởi tạo các hệ số là 0 trước\n",
    "\n",
    "arrayQuantity['limited'] = [0 for j in range(quantity)]               # limited sẽ lưu các ràng buộc ≤, = và ≥\n",
    "arrayQuantity['HeSo'] = [0 for j in range(quantity)]                  # HeSo sẽ lưu các giới hạn của ràng buộc (tức bi trong QHTT)\n",
    "\n",
    "print(\"Nhap cac he so cua cac rang buoc va gioi han cua no: \")\n",
    "for i in range(quantity):                                             #Khởi tạo vòng lặp để nhập các giá trị cần thiết cho ràng buộc\n",
    "    \n",
    "    print(\"Rang buoc thu \", i + 1)\n",
    "    for j in range(1, variables + 1):                                 #Khởi tạo vòng lặp để nhập từng hệ số của biến trong từng ràng buộc\n",
    "      arrayQuantity['x' + str(j)][i] = int(input('He so cua x' + str(j) + ' cua rang buoc thu ' + str(i + 1)))       #Nhập hệ số từng biến\n",
    "\n",
    "    arrayQuantity['limited'][i] = int(input('nhap vao rang buoc 0. ≤, 1. ≥, 2. = '))    #nhập vào ràng buộc ≤, = và ≥\n",
    "    arrayQuantity['HeSo'][i] = int(input('Nhap vao gioi han cua rang buoc: '))          #nhập vào giới hạn của ràng buộc"
   ]
  },
  {
   "cell_type": "code",
   "execution_count": 41,
   "metadata": {},
   "outputs": [
    {
     "name": "stdout",
     "output_type": "stream",
     "text": [
      "Các ràng buộc là: \n",
      "   1*x1  +1*x2  +1*x3  =   1\n",
      "   7*x1  +2*x2  +3*x3  ≤   20\n",
      "   1*x1  +5*x2  +4*x3  ≤   30\n"
     ]
    }
   ],
   "source": [
    "#In ra các ràng buộc để người dùng kiểm tra lại\n",
    "print(\"Các ràng buộc là: \")                                                 \n",
    "for i in range(quantity):\n",
    "    for j in arrayQuantity:\n",
    "      if j != 'x1' and j != 'limited' and j != 'HeSo' and arrayQuantity[j][i] > 0:\n",
    "        print('  +', end='')\n",
    "        print(str(arrayQuantity[j][i]) + '*' + str(j), end='')\n",
    "      elif j == 'limited':\n",
    "        if arrayQuantity[j][i] == 0:\n",
    "          arrayQuantity[j][i] = '≤'\n",
    "        elif arrayQuantity[j][i] == 1:\n",
    "          arrayQuantity[j][i] = '≥'\n",
    "        elif arrayQuantity[j][i] == 2:\n",
    "          arrayQuantity[j][i] = '='\n",
    "        print(\" \",arrayQuantity[j][i], end='')\n",
    "      elif j == 'HeSo':\n",
    "        if arrayQuantity[j][i] > 0:\n",
    "          print(end=' ')\n",
    "        print(' ', str(arrayQuantity[j][i]), end='')\n",
    "      else:\n",
    "        if j == 'x1' and arrayQuantity[j][i] > 0:\n",
    "          print(end=' ')\n",
    "        print(' ',str(arrayQuantity[j][i]) + '*' + str(j), end='')\n",
    "    print()"
   ]
  },
  {
   "attachments": {},
   "cell_type": "markdown",
   "metadata": {},
   "source": [
    "### Ràng buộc từng biến, ≤ 0, ≥ 0 hay tự do"
   ]
  },
  {
   "cell_type": "code",
   "execution_count": 42,
   "metadata": {},
   "outputs": [
    {
     "name": "stdout",
     "output_type": "stream",
     "text": [
      "Nhập ràng buộc của từng biến\n",
      "Các ràng buộc của từng biến là:\n",
      "x1 ≥ 0\n",
      "x2 ≥ 0\n",
      "x3 ≥ 0\n"
     ]
    }
   ],
   "source": [
    "#Nhập vào ràng buộc của từng biến\n",
    "print(\"Nhập ràng buộc của từng biến\")\n",
    "arrayVariables = {}                                                           #Khởi tạo arrayVariables type dict{}, lưu các ràng buộc của từng biến\n",
    "for i in range(1, variables + 1):                                             #dict sẽ có dạng ví dụ như sau: arrayVariables = {'x1': 0, 'x2': 1}\n",
    "                                                                            # Tương ứng với các giá trị 0, 1, 2 sẽ là ≤ 0, ≥ 0, tự do\n",
    "    arrayVariables['x' + str(i)] = int(input('Nhập ràng buộc của biến ' + 'x' + str(i) + '(0. ≤ 0, 1. ≥ 0, 2. biến tự do)'))\n",
    "\n",
    "print('Các ràng buộc của từng biến là:')\n",
    "for i in arrayVariables:\n",
    "    if arrayVariables[i] == 0:\n",
    "        print(i + ' ≤ 0')\n",
    "    elif arrayVariables[i] == 1:\n",
    "        print(i + ' ≥ 0')\n",
    "    else:\n",
    "        print(i + ' tự do')"
   ]
  },
  {
   "attachments": {},
   "cell_type": "markdown",
   "metadata": {},
   "source": [
    "## Chuẩn hóa"
   ]
  },
  {
   "cell_type": "code",
   "execution_count": 43,
   "metadata": {},
   "outputs": [],
   "source": [
    "# lƯU LẠI CÁC THAY ĐỔI VỀ BIẾN KHI CHUẨN HÓA\n",
    "log_record = {}"
   ]
  },
  {
   "attachments": {},
   "cell_type": "markdown",
   "metadata": {},
   "source": [
    "##### Chuẩn hóa ràng buộc biến"
   ]
  },
  {
   "cell_type": "code",
   "execution_count": 44,
   "metadata": {},
   "outputs": [],
   "source": [
    "for i in arrayVariables:\n",
    "    #Chuẩn hóa khi ràng buộc về biến là ≤ 0\n",
    "    if arrayVariables[i] == 0:                                                  \n",
    "        log_record[i] = '-' + i                                          #Khi chuẩn hóa ràng buộc biến là ≤ 0 thì sẽ thay đổi biến đó thành dạng VD x1 = -x1\n",
    "        arrayObj_func[i] = 0 - arrayObj_func[i]                          # để tối ưu cho việc tính toán sau này thì sẽ không thay đổi tên của biến\n",
    "        for j in range(quantity):                                        # Nhưng sẽ lưu sự thay đổi này vào log_record để kết luận sau này\n",
    "            arrayQuantity[i][j] = 0 - arrayQuantity[i][j]                #Việc chuẩn hóa này đồng thời sẽ tác động lên các ràng buộc và hàm mục tiêu\n",
    "                                                                        # Do đó chúng ta cũng phải sửa lại các ràng buộc và hàm mục tiêu\n",
    "    #Chuẩn hóa khi ràng buộc về biến là ≥ 0\n",
    "    if arrayVariables[i] == 2:                                           #Khi chuẩn hóa ràng buộc biến là tự do thì sẽ thay đổi biến đó thành dạng tạo\n",
    "        log_record[i] = [i,'x' + str(variables + 1)]                    # thêm biến mới\n",
    "        arrayObj_func['x' + str(variables + 1)] = 0 - arrayObj_func[i]    #VD: x1 = x1 - x2 , biến mới này phụ thuộc vào số biến ban đầu có\n",
    "        arrayQuantity['x' + str(variables + 1)] = [0 - arrayQuantity[i][j] for j in range(quantity)]    #VD ban đầu có x1,x2,x3 mà x1 tự do sẽ tạo thêm x4\n",
    "        variables += 1                                                                                  #Với x1 = x1 - x4 và x1 x4 lúc này đều dương"
   ]
  },
  {
   "cell_type": "code",
   "execution_count": 45,
   "metadata": {},
   "outputs": [
    {
     "data": {
      "text/plain": [
       "{}"
      ]
     },
     "execution_count": 45,
     "metadata": {},
     "output_type": "execute_result"
    }
   ],
   "source": [
    "log_record                                                    #log_record sẽ lưu các thay đổi ví dụ như nếu x1 = -x1 và x2 = x2 - x4 sẽ lưu là:\n",
    "                                                              # {'x1': '-x1', 'x2': ['x2', 'x4']}"
   ]
  },
  {
   "attachments": {},
   "cell_type": "markdown",
   "metadata": {},
   "source": [
    "##### Chuẩn hóa các ràng buộc"
   ]
  },
  {
   "cell_type": "code",
   "execution_count": 46,
   "metadata": {},
   "outputs": [],
   "source": [
    "for j in range(quantity):\n",
    "    if arrayQuantity['limited'][j] == '≥':                      #Với các ràng buộc ≥ thì sẽ nhân -1 cho tất cả các hệ số và cả giới hạ\n",
    "        for i in arrayQuantity:\n",
    "            if i != 'limited':\n",
    "                arrayQuantity[i][j] = 0 - arrayQuantity[i][j]\n",
    "        arrayQuantity['limited'][j] = '≤'                       #sau đó thay đổi ràng buộc thành ≤\n",
    "    if arrayQuantity['limited'][j] == '=':\n",
    "        arrayQuantity['limited'][j] = '≤'                       #Với các ràng buộc = thì sẽ khởi tạo thêm ràng buộc mới giống như quy tắc chuẩn hóa chúng ta\n",
    "        for i in arrayQuantity:                                 # thường làm\n",
    "            if i != 'limited':\n",
    "                temp = arrayQuantity[i]\n",
    "                temp.append(0 - arrayQuantity[i][j])\n",
    "                arrayQuantity[i] = temp\n",
    "        temp = arrayQuantity['limited']\n",
    "        temp.append('≤')\n",
    "        arrayQuantity['limited'] = temp\n",
    "        quantity += 1"
   ]
  },
  {
   "attachments": {},
   "cell_type": "markdown",
   "metadata": {},
   "source": [
    "##### Chuẩn hóa hàm mục tiêu"
   ]
  },
  {
   "cell_type": "code",
   "execution_count": 47,
   "metadata": {},
   "outputs": [],
   "source": [
    "if MinMax == 1:                                     #Bước này sẽ kiểm tra nếu hàm mục tiêu là max thì sẽ chuẩn hóa nó\n",
    "    for i in arrayObj_func:\n",
    "        arrayObj_func[i] = 0 - arrayObj_func[i]"
   ]
  },
  {
   "attachments": {},
   "cell_type": "markdown",
   "metadata": {},
   "source": [
    "## Đưa dữ liệu vào dataframe"
   ]
  },
  {
   "cell_type": "code",
   "execution_count": 48,
   "metadata": {},
   "outputs": [],
   "source": [
    "#### tạo một list chuẩn bị\n",
    "#Bước này để lấy các hệ số trong ràng buộc trước đồng thời khởi tạo dataframe để giải bài toán dưới dạng bảng trong QHTT\n",
    "prepare = {}\n",
    "for i in range(1, variables + 1):\n",
    "    prepare['x' + str(i)] = arrayQuantity['x' + str(i)]\n",
    "    temp = arrayQuantity['x' + str(i)]\n",
    "df = pd.DataFrame(prepare)"
   ]
  },
  {
   "cell_type": "code",
   "execution_count": 49,
   "metadata": {},
   "outputs": [],
   "source": [
    "#Hàm này để đưa hàm mục tiêu vào dataframe\n",
    "Obj_func_row = pd.DataFrame(arrayObj_func, index=[0])\n",
    "df = pd.concat([Obj_func_row, df.loc[:]]).reset_index(drop=True)"
   ]
  },
  {
   "cell_type": "code",
   "execution_count": 50,
   "metadata": {},
   "outputs": [
    {
     "data": {
      "text/html": [
       "<div>\n",
       "<style scoped>\n",
       "    .dataframe tbody tr th:only-of-type {\n",
       "        vertical-align: middle;\n",
       "    }\n",
       "\n",
       "    .dataframe tbody tr th {\n",
       "        vertical-align: top;\n",
       "    }\n",
       "\n",
       "    .dataframe thead th {\n",
       "        text-align: right;\n",
       "    }\n",
       "</style>\n",
       "<table border=\"1\" class=\"dataframe\">\n",
       "  <thead>\n",
       "    <tr style=\"text-align: right;\">\n",
       "      <th></th>\n",
       "      <th>x1</th>\n",
       "      <th>x2</th>\n",
       "      <th>x3</th>\n",
       "      <th>w1</th>\n",
       "      <th>w2</th>\n",
       "      <th>w3</th>\n",
       "      <th>w4</th>\n",
       "      <th>HeSo</th>\n",
       "    </tr>\n",
       "  </thead>\n",
       "  <tbody>\n",
       "    <tr>\n",
       "      <th>0</th>\n",
       "      <td>-1</td>\n",
       "      <td>-3</td>\n",
       "      <td>-2</td>\n",
       "      <td>0</td>\n",
       "      <td>0</td>\n",
       "      <td>0</td>\n",
       "      <td>0</td>\n",
       "      <td>0</td>\n",
       "    </tr>\n",
       "    <tr>\n",
       "      <th>1</th>\n",
       "      <td>1</td>\n",
       "      <td>1</td>\n",
       "      <td>1</td>\n",
       "      <td>1</td>\n",
       "      <td>0</td>\n",
       "      <td>0</td>\n",
       "      <td>0</td>\n",
       "      <td>1</td>\n",
       "    </tr>\n",
       "    <tr>\n",
       "      <th>2</th>\n",
       "      <td>7</td>\n",
       "      <td>2</td>\n",
       "      <td>3</td>\n",
       "      <td>0</td>\n",
       "      <td>1</td>\n",
       "      <td>0</td>\n",
       "      <td>0</td>\n",
       "      <td>20</td>\n",
       "    </tr>\n",
       "    <tr>\n",
       "      <th>3</th>\n",
       "      <td>1</td>\n",
       "      <td>5</td>\n",
       "      <td>4</td>\n",
       "      <td>0</td>\n",
       "      <td>0</td>\n",
       "      <td>1</td>\n",
       "      <td>0</td>\n",
       "      <td>30</td>\n",
       "    </tr>\n",
       "    <tr>\n",
       "      <th>4</th>\n",
       "      <td>-1</td>\n",
       "      <td>-1</td>\n",
       "      <td>-1</td>\n",
       "      <td>0</td>\n",
       "      <td>0</td>\n",
       "      <td>0</td>\n",
       "      <td>1</td>\n",
       "      <td>-1</td>\n",
       "    </tr>\n",
       "  </tbody>\n",
       "</table>\n",
       "</div>"
      ],
      "text/plain": [
       "   x1  x2  x3  w1  w2  w3  w4  HeSo\n",
       "0  -1  -3  -2   0   0   0   0     0\n",
       "1   1   1   1   1   0   0   0     1\n",
       "2   7   2   3   0   1   0   0    20\n",
       "3   1   5   4   0   0   1   0    30\n",
       "4  -1  -1  -1   0   0   0   1    -1"
      ]
     },
     "execution_count": 50,
     "metadata": {},
     "output_type": "execute_result"
    }
   ],
   "source": [
    "# Sau đó là thêm vào các w0,w1,w2 và giới hạn của từng ràng buộc\n",
    "HeSo = [0]\n",
    "for i in range(1,quantity + 1):\n",
    "    df['w' + str(i)] = [0 for j in range(quantity + 1)]\n",
    "    df['w' + str(i)][i] = 1\n",
    "    HeSo.append(arrayQuantity['HeSo'][i-1])\n",
    "df['HeSo'] = HeSo\n",
    "df"
   ]
  },
  {
   "attachments": {},
   "cell_type": "markdown",
   "metadata": {},
   "source": [
    "## Truy xuất vào từng bài toán"
   ]
  },
  {
   "cell_type": "code",
   "execution_count": 51,
   "metadata": {},
   "outputs": [],
   "source": [
    "def is_basic(column): # kiem tra biến cơ sở\n",
    "    return sum(column) == 1 and len([c for c in column if c == 0]) == len(column) - 1\n",
    "#trong \n",
    "#nếu tổng hệ số của một cột bằng 1 và len của index c trong column bằng 0 và bằng với len(column) - 1"
   ]
  },
  {
   "attachments": {},
   "cell_type": "markdown",
   "metadata": {},
   "source": [
    "#### Hàm dantzig"
   ]
  },
  {
   "cell_type": "code",
   "execution_count": 52,
   "metadata": {},
   "outputs": [],
   "source": [
    "def dantzig(array):\n",
    "        array = np.array(array, dtype=np.float64) #dataframe thành array\n",
    "        pivot_row = -1 # khởi tạo biến, dùng để sử dụng theo dõi hàng pivot\n",
    "        pivot_col = -1 # và cột pivot\n",
    "        while array[0, :-1].min() < 0: # duyệt giá trị hàm mục tiêu z có giá trị nhỏ nhất âm hay không, nếu có thì tiếp tục vòng lặp\n",
    "            print('pivot_vot:',np.argmin(array[0, :-1]))\n",
    "            pivot_col = np.argmin(array[0, :-1]) # gán vị trí của giá trị nhỏ nhất trong hàm mục tiêu vào pivot_col tìm biến vào\n",
    "            if (array[1:, pivot_col] <= 0).all(): # tìm biến ra, nếu các giá trị trong cột tương ứng với pivot_col(trừ hàng đầu tiên) nhỏ hơn hoặc bằng 0\n",
    "                return -1, array # trả về -1 ( ứng với trường hợp không giới nội)\n",
    "            else:\n",
    "                ratios = array[1:, -1] / array[1:, pivot_col] # lấy hệ số b tương ứng với cột (array[1:-1]) chia cho giá trị trong cột pivot_col để tìm biến ra.\n",
    "                ratios[ratios <= 0] = np.inf # gán giá trị ratios âm hoặc nhỏ hơn 0 vào giá trị inf để loại trừ nó và khỏi xem xét\n",
    "                pivot_row = np.argmin(ratios) + 1 # vị trí dòng có hệ số ratios nhỏ nhất(+1 vì bỏ dòng đầu tiên )\n",
    "                print('pivot_row:',np.argmin(ratios) + 1)\n",
    "            array[pivot_row, :] /= array[pivot_row, pivot_col] # biến đổi để giá trị ở array[pivot_row, pivot_col] = 1, và giá trị khác trong pivot_col = 0.\n",
    "            #pivot column lúc này trở thành biến cơ sở\n",
    "            for i in range(len(array)): # biến đổi các biến lại\n",
    "                if i != pivot_row:\n",
    "                    array[i, :] -= array[i, pivot_col] * array[pivot_row, :] \n",
    "            display(pd.DataFrame(array))\n",
    "        return 1, array"
   ]
  },
  {
   "attachments": {},
   "cell_type": "markdown",
   "metadata": {},
   "source": [
    "#### Hàm Bland"
   ]
  },
  {
   "cell_type": "code",
   "execution_count": 53,
   "metadata": {},
   "outputs": [],
   "source": [
    "#Hàm Bland tương tự như hàm Dantzig \n",
    "def Bland(array):\n",
    "        array = np.array(array, dtype=np.float64) \n",
    "        pivot_row = -1 \n",
    "        pivot_col = -1 \n",
    "        while array[0, :-1].min() < 0: \n",
    "            # gán vị trí có giá trị âm ưu tiên ( x1 > x2 > ...> w1 > w2> ....) trong hàm mục tiêu vào pivot_col tìm biến vào\n",
    "            pivot_col = np.where(array[0, :-1] < 0)[0][0] \n",
    "            if (array[1:, pivot_col] <= 0).all(): \n",
    "                return -1, array\n",
    "            else:\n",
    "                ratios = array[1:, -1] / array[1:, pivot_col] \n",
    "                ratios[ratios <= 0] = np.inf \n",
    "                pivot_row = np.argmin(ratios) + 1 \n",
    "            array[pivot_row, :] /= array[pivot_row, pivot_col] \n",
    "            \n",
    "            for i in range(len(array)): \n",
    "                if i != pivot_row:\n",
    "                    array[i, :] -= array[i, pivot_col] * array[pivot_row, :] \n",
    "        return 1, array"
   ]
  },
  {
   "attachments": {},
   "cell_type": "markdown",
   "metadata": {},
   "source": [
    "#### Hàm 2 pha"
   ]
  },
  {
   "cell_type": "code",
   "execution_count": 54,
   "metadata": {},
   "outputs": [],
   "source": [
    "# Ham xay dung bai toan bo tro dua tren bai toan goc\n",
    "def SupplementaryMath(data, cols_data, rows_data):\n",
    "    df = data.copy()\n",
    "    # Cho he so cua cac phan tu o ham muc tieu bang 0\n",
    "    for i in range(0, cols_data):\n",
    "        df.iloc[[0], [i]] = 0\n",
    "        \n",
    "    # Tao cot x0 \n",
    "    x0_values = [1] # Cho he so cua cac phan tu dau tien bang 1\n",
    "    for i in range(1, rows_data): # Cho he so cua cac phan tu con lai bang -1\n",
    "        x0_values.append(-1) \n",
    "    \n",
    "    # Them cot x0 vao data frame\n",
    "    df.insert(cols_data-1, 'x0', x0_values)\n",
    "    \n",
    "    return df"
   ]
  },
  {
   "attachments": {},
   "cell_type": "markdown",
   "metadata": {},
   "source": [
    "##### Pha 1"
   ]
  },
  {
   "cell_type": "code",
   "execution_count": 55,
   "metadata": {},
   "outputs": [],
   "source": [
    "# Ham tim vi tri cua phan tu x0\n",
    "def Find_x0_Index(df):\n",
    "    features_name = list(df.columns)\n",
    "    x0_index = features_name.index('x0')\n",
    "    return x0_index"
   ]
  },
  {
   "cell_type": "code",
   "execution_count": 56,
   "metadata": {},
   "outputs": [],
   "source": [
    "# Ham chuyen -0.0 -> +0.0\n",
    "def ConvertNegativeZero(matrix):\n",
    "    matrix += 0.0"
   ]
  },
  {
   "cell_type": "code",
   "execution_count": 57,
   "metadata": {},
   "outputs": [],
   "source": [
    "# Ham tim phan tu cua bien vao\n",
    "def FindInputIndex(array, cols, rows):\n",
    "    \n",
    "    min = array[0]\n",
    "    min_index = 0\n",
    "    for i in range(1, cols):\n",
    "        if array[i] < min:\n",
    "            min = array[i]\n",
    "            min_index = i\n",
    "        \n",
    "    return min_index"
   ]
  },
  {
   "cell_type": "code",
   "execution_count": 58,
   "metadata": {},
   "outputs": [],
   "source": [
    "# Ham xoay\n",
    "def Rotate(matrix, cols, rows, index):\n",
    "    # Tim bien ra\n",
    "    min = matrix[1][-1]/abs(matrix[1][index])\n",
    "    row_min_index = 1\n",
    "\n",
    "    for i in range(2, rows):\n",
    "        # Dung bang nen kiem tra cac bien duong de xet bien ra co so\n",
    "        if matrix[i][index] > 0:\n",
    "            if matrix[i][-1]/abs(matrix[i][index]) < min:\n",
    "                min = matrix[i][-1]/abs(matrix[i][index])\n",
    "                row_min_index = i\n",
    "\n",
    "    for i in range(0, rows):\n",
    "        # Neu i dang xet khong la dong chua bien co gia tri nho nhat va gia tri cua bien khac 0\n",
    "        if i != row_min_index and matrix[i][index] != 0:\n",
    "            coef = matrix[i][index]/matrix[row_min_index][index]\n",
    "            matrix[i][:] -= coef * matrix[row_min_index][:]\n",
    "        # Neu i dang la dong chua bien co gia tri nho nhat va gia tri cua bien khac 0\n",
    "        elif i == row_min_index and matrix[i][index] != 0:\n",
    "            matrix[i][:] /= matrix[i][index]\n",
    "            \n",
    "    ConvertNegativeZero(matrix)\n",
    "    \n",
    "    return matrix        "
   ]
  },
  {
   "cell_type": "code",
   "execution_count": 59,
   "metadata": {},
   "outputs": [],
   "source": [
    "# Ham kiem tra cac dieu kien\n",
    "def CheckTheConditions(df, matrix, cols, rows, x0_index):\n",
    "    # Xoay lan dau tien doi voi x0 > 0\n",
    "    matrix[:, x0_index] = abs(matrix[:, x0_index])\n",
    "    matrix = Rotate(matrix, cols, rows, x0_index)\n",
    "    \n",
    "    while True:\n",
    "        # Neu cac phan tu khac deu co he so bang 0 va x0 quay tro lai la bien chua co so\n",
    "        if np.all(matrix[0][:-2] == 0) == True and matrix[0][-1] == 0 and matrix[0][x0_index] == 1:\n",
    "            print('Switch to Phase 2.') # Chuyen qua pha 2\n",
    "            check = 2\n",
    "            break\n",
    "        # Neu cac phan tu khac deu co he so lon hon hoac bang 0 va x0 khong quay tro lai la bien co so\n",
    "        elif np.all(matrix[0][:-2] >= 0) == True and matrix[0][x0_index] == 0:\n",
    "            check = 0\n",
    "            break\n",
    "        # Truong hop con lai tim bien vao co so, tiep tuc xoay\n",
    "        else:\n",
    "            epsilon = matrix[0][:-2]\n",
    "            input_index = FindInputIndex(epsilon, cols-2, rows)\n",
    "            matrix = Rotate(matrix, cols, rows, input_index)\n",
    "            \n",
    "    return (matrix, check)"
   ]
  },
  {
   "cell_type": "code",
   "execution_count": 60,
   "metadata": {},
   "outputs": [],
   "source": [
    "# Ham tim nhung bien co so\n",
    "def FindBasicVariables(matrix, cols, rows):\n",
    "    # Tao danh sach chua vi tri cua bien co so trong cot va dong chua bien co so\n",
    "    basic_variables_index = []\n",
    "    \n",
    "    for i in range(0, cols-1):\n",
    "        c0 = matrix[:, i] == 0\n",
    "        count0 = np.count_nonzero(c0 == True)\n",
    "        c1 = matrix[:, i] == 1\n",
    "        count1 = np.count_nonzero(c1 == True)\n",
    "        \n",
    "        # Bien co so la nhung bien ma cot cua no chua 1 gia tri 1 va cac gia tri con lai bang 0\n",
    "        if count0 + count1 == rows:\n",
    "            row_index = np.where(c1 == True)\n",
    "            basic_variables_index.append((i, row_index[0][0]))\n",
    "            \n",
    "    return basic_variables_index"
   ]
  },
  {
   "cell_type": "code",
   "execution_count": 61,
   "metadata": {},
   "outputs": [],
   "source": [
    "# Ham tao ra z moi\n",
    "def New_z(data, matrix_data, matrix, cols_data, rows_data, cols, rows):\n",
    "    # Lay cac he so cua ham muc tieu o bai toan goc va bai toan bo tro\n",
    "    z = matrix_data[0][:]\n",
    "    z_new = matrix[0][:]\n",
    "    \n",
    "    # Tim cac bien co so sau khi giai bai toan bo tro\n",
    "    basic_variables = FindBasicVariables(matrix, cols, rows)\n",
    "    bv_index = [] # Tao danh sach chua vi tri cua cac bien co so trong moi cot\n",
    "    bv_rows = [] # Tao danh sach chua dong chua bien co so trong mot cot\n",
    "    # Them cac bien vi tri cua cac bien co so trong moi cot va dong cua no vao hai danh sach\n",
    "    for i in range(0, len(basic_variables)):\n",
    "        bv_index.append(basic_variables[i][0])\n",
    "        bv_rows.append(basic_variables[i][1])\n",
    "    \n",
    "    z_basic_variables_index = [] # Tao danh sach chua vi tri cua cac bien co so trong moi cot\n",
    "    z_non_basic_variables_index = [] # Tao danh sach chua vi tri cua cac bien khong co so trong moi cot\n",
    "    # Tien hanh them cac bien nay vao hai danh sach\n",
    "    for i in range(0, cols_data-1):\n",
    "        if i in bv_index and z[i] != 0: # Kiem tra neu bien nay la bien co so va he so cua no o ham muc tieu goc khac 0\n",
    "            z_basic_variables_index.append(i)\n",
    "        elif i not in bv_index and z[i] != 0: # Kiem tra neu bien nay la bien khong co so va he so cua no o ham muc tieu goc khac 0\n",
    "            z_non_basic_variables_index.append(i)\n",
    "    \n",
    "    # Chuyen doi z ve z_new ung voi bai toan chap nhan duoc\n",
    "    for i in range(0, cols-1):\n",
    "        # Neu i dang xet la bien co so o bai toan bo tro\n",
    "        if i in z_basic_variables_index:\n",
    "            temp_i = bv_rows[i]\n",
    "            temp = matrix[temp_i][:].copy()\n",
    "            temp[i] = 0\n",
    "            temp[i+1:] *= -1\n",
    "            z_new += z[i] * temp\n",
    "        # Neu i dang xet la bien khong co so o bai toan bo tro\n",
    "        elif i in z_non_basic_variables_index:\n",
    "            temp = np.zeros(cols_data)\n",
    "            temp[i] = 1\n",
    "            z_new += z[i] * temp\n",
    "    \n",
    "    return z_new"
   ]
  },
  {
   "cell_type": "code",
   "execution_count": 62,
   "metadata": {},
   "outputs": [],
   "source": [
    "# Ham tao ra bang chap nhan duoc\n",
    "def AcceptableTable(data, matrix_data, df, matrix, cols_data, rows_data, cols, rows):\n",
    "    # Tim z_new va them z_new vao ma tran\n",
    "    z_new = New_z(data, matrix_data, matrix, cols_data, rows_data, cols, rows)\n",
    "    matrix[0][:] = z_new\n",
    "\n",
    "    ConvertNegativeZero(matrix)\n",
    "\n",
    "    # Thay doi noi dung cho data frame goc\n",
    "    features_name = list(df.columns)\n",
    "    df = pd.DataFrame(matrix, columns=features_name)\n",
    "        \n",
    "    return df # Tra ve data frame chap nhan duoc"
   ]
  },
  {
   "cell_type": "code",
   "execution_count": 63,
   "metadata": {},
   "outputs": [],
   "source": [
    "# Ham thuc thi pha 1\n",
    "def Phase1(data, matrix_data, df, matrix, cols_data, rows_data, cols, rows, x0_index):\n",
    "    (matrix, check) = CheckTheConditions(df, matrix, cols, rows, x0_index)\n",
    "    if check == 2:\n",
    "        features_name = list(df.columns)\n",
    "        df = pd.DataFrame(matrix, columns=features_name)\n",
    "        df = df.drop(columns='x0')\n",
    "        matrix = np.delete(matrix, np.s_[x0_index:x0_index+1], axis=1) \n",
    "        \n",
    "        df = AcceptableTable(data, matrix_data, df, matrix, cols_data, rows_data, cols, rows)\n",
    "        return check, df\n",
    "    return check, df"
   ]
  },
  {
   "cell_type": "code",
   "execution_count": 64,
   "metadata": {},
   "outputs": [],
   "source": [
    "def two_Phase(data):\n",
    "\n",
    "    #Lưu các thông số dòng và cột của data\n",
    "    rows_data, cols_data = data.shape\n",
    "    matrix_data = np.array(data, dtype=float)\n",
    "\n",
    "    #Đưa về bài toán bổ trợ\n",
    "    df = SupplementaryMath(data, cols_data, rows_data)\n",
    "\n",
    "    #Lưu các thông số dòng và cột của df\n",
    "    rows, cols = df.shape\n",
    "    matrix = np.array(df, dtype=float)\n",
    "    \n",
    "    #Pha 1\n",
    "    x0_index = Find_x0_Index(df)\n",
    "    check, output = Phase1(data, matrix_data, df, matrix, cols_data, rows_data, cols, rows, x0_index)\n",
    "    #Nếu Pha 1 trả về check == 2\n",
    "    if check == 2:\n",
    "        array = []\n",
    "        for i in range(np.shape(output)[0]):\n",
    "            array.append([str(output.values[i,j]) for j in range(np.shape(output)[1])])\n",
    "        check, output = dantzig(array)\n",
    "    return check, output"
   ]
  },
  {
   "attachments": {},
   "cell_type": "markdown",
   "metadata": {},
   "source": [
    "### Hàm phân loại trường hợp bài toán và áp dụng cách giải phù hợp"
   ]
  },
  {
   "cell_type": "code",
   "execution_count": 65,
   "metadata": {},
   "outputs": [],
   "source": [
    "def Conclusion(check, output, MinMax, log_record):\n",
    "    row, col = output.shape\n",
    "    obj = 0\n",
    "    x = 0\n",
    "\n",
    "    if (check == -1):\n",
    "        print(\"Bai toan khong gioi noi.\")\n",
    "        obj = np.inf\n",
    "        x = (\"Khong co nghiem\")\n",
    "    else:\n",
    "        obj = output[0,-1]\n",
    "\n",
    "        if MinMax == 1:\n",
    "            obj = -obj\n",
    "\n",
    "        for i in range(col - 1):\n",
    "            # kiểm tra nếu không phải là biến cơ sở và cái column còn lại tồn tại 1 index có giá trị = 0\n",
    "            if (not is_basic(output[:,i]) and (output[:,i] == 0).any()):\n",
    "                print(\"Bai toan vo so nghiem.\")\n",
    "                x =  (\"Vo so nghiem voi dieu kien: \")\n",
    "                break\n",
    "            else:\n",
    "                solutions = np.zeros(col-1)\n",
    "                for i in range(col-1):\n",
    "                    if is_basic(output[:,i]):\n",
    "                        for j in range(1,row):\n",
    "                            if output[j,i] == 1:\n",
    "                                solutions[i] = output[j,-1]\n",
    "                        x = solutions[:col-row]\n",
    "        if log_record != {}:\n",
    "            for i in log_record:\n",
    "                if log_record[i][0] == '-':\n",
    "                    x[int(i[1]) - 1] = 0 - x[int(i[1]) - 1]\n",
    "                else:\n",
    "                    x[int(i[1]) - 1] =  x[int(i[1]) - 1] - x[int(log_record[i][1][1]) - 1]\n",
    "                    x = np.delete(x, int(log_record[i][1][1]) - 1)\n",
    "                    \n",
    "\n",
    "\n",
    "    print(\"Gia tri toi uu z: \", -obj)\n",
    "    print(\"Nghiem bai toan: \", x)"
   ]
  },
  {
   "cell_type": "code",
   "execution_count": 66,
   "metadata": {},
   "outputs": [
    {
     "name": "stdout",
     "output_type": "stream",
     "text": [
      "Switch to Phase 2.\n",
      "pivot_vot: 1\n",
      "pivot_row: 1\n"
     ]
    },
    {
     "data": {
      "text/html": [
       "<div>\n",
       "<style scoped>\n",
       "    .dataframe tbody tr th:only-of-type {\n",
       "        vertical-align: middle;\n",
       "    }\n",
       "\n",
       "    .dataframe tbody tr th {\n",
       "        vertical-align: top;\n",
       "    }\n",
       "\n",
       "    .dataframe thead th {\n",
       "        text-align: right;\n",
       "    }\n",
       "</style>\n",
       "<table border=\"1\" class=\"dataframe\">\n",
       "  <thead>\n",
       "    <tr style=\"text-align: right;\">\n",
       "      <th></th>\n",
       "      <th>0</th>\n",
       "      <th>1</th>\n",
       "      <th>2</th>\n",
       "      <th>3</th>\n",
       "      <th>4</th>\n",
       "      <th>5</th>\n",
       "      <th>6</th>\n",
       "      <th>7</th>\n",
       "    </tr>\n",
       "  </thead>\n",
       "  <tbody>\n",
       "    <tr>\n",
       "      <th>0</th>\n",
       "      <td>2.0</td>\n",
       "      <td>0.0</td>\n",
       "      <td>1.0</td>\n",
       "      <td>3.0</td>\n",
       "      <td>0.0</td>\n",
       "      <td>0.0</td>\n",
       "      <td>0.0</td>\n",
       "      <td>3.0</td>\n",
       "    </tr>\n",
       "    <tr>\n",
       "      <th>1</th>\n",
       "      <td>1.0</td>\n",
       "      <td>1.0</td>\n",
       "      <td>1.0</td>\n",
       "      <td>1.0</td>\n",
       "      <td>0.0</td>\n",
       "      <td>0.0</td>\n",
       "      <td>0.0</td>\n",
       "      <td>1.0</td>\n",
       "    </tr>\n",
       "    <tr>\n",
       "      <th>2</th>\n",
       "      <td>5.0</td>\n",
       "      <td>0.0</td>\n",
       "      <td>1.0</td>\n",
       "      <td>-2.0</td>\n",
       "      <td>1.0</td>\n",
       "      <td>0.0</td>\n",
       "      <td>0.0</td>\n",
       "      <td>18.0</td>\n",
       "    </tr>\n",
       "    <tr>\n",
       "      <th>3</th>\n",
       "      <td>-4.0</td>\n",
       "      <td>0.0</td>\n",
       "      <td>-1.0</td>\n",
       "      <td>-5.0</td>\n",
       "      <td>0.0</td>\n",
       "      <td>1.0</td>\n",
       "      <td>0.0</td>\n",
       "      <td>25.0</td>\n",
       "    </tr>\n",
       "    <tr>\n",
       "      <th>4</th>\n",
       "      <td>0.0</td>\n",
       "      <td>0.0</td>\n",
       "      <td>0.0</td>\n",
       "      <td>1.0</td>\n",
       "      <td>0.0</td>\n",
       "      <td>0.0</td>\n",
       "      <td>1.0</td>\n",
       "      <td>0.0</td>\n",
       "    </tr>\n",
       "  </tbody>\n",
       "</table>\n",
       "</div>"
      ],
      "text/plain": [
       "     0    1    2    3    4    5    6     7\n",
       "0  2.0  0.0  1.0  3.0  0.0  0.0  0.0   3.0\n",
       "1  1.0  1.0  1.0  1.0  0.0  0.0  0.0   1.0\n",
       "2  5.0  0.0  1.0 -2.0  1.0  0.0  0.0  18.0\n",
       "3 -4.0  0.0 -1.0 -5.0  0.0  1.0  0.0  25.0\n",
       "4  0.0  0.0  0.0  1.0  0.0  0.0  1.0   0.0"
      ]
     },
     "metadata": {},
     "output_type": "display_data"
    },
    {
     "name": "stdout",
     "output_type": "stream",
     "text": [
      "Bai toan vo so nghiem.\n",
      "Gia tri toi uu z:  3.0\n",
      "Nghiem bai toan:  Vo so nghiem voi dieu kien: \n"
     ]
    }
   ],
   "source": [
    "if np.any(df['HeSo'][1:] < 0):         #Nếu trong dataframe có bất kỳ một giá trị bi nào nhỏ hơn 0 sẽ thực hiện 2 pha\n",
    "    check, output = two_Phase(df)\n",
    "    if check == 0:\n",
    "        print('Bai toan vo nghiem.')\n",
    "    else:\n",
    "        Conclusion(check, output, MinMax, log_record)\n",
    "\n",
    "elif np.all(df['HeSo'][1:] > 0):       #Nếu trong dataframe có tất cả giá trị bi lớn hơn 0 sẽ thực hiện dantzig\n",
    "    array = []\n",
    "    for i in range(np.shape(df)[0]):\n",
    "        array.append([str(df.values[i,j]) for j in range(np.shape(df)[1])])\n",
    "    check, output = dantzig(array)\n",
    "    Conclusion(check, output, MinMax, log_record)\n",
    "\n",
    "else:                              #Nếu không nằm trong 2 trường hợp trên thì thực hiện bland\n",
    "    array = []\n",
    "    for i in range(np.shape(df)[0]):\n",
    "        array.append([str(df.values[i,j]) for j in range(np.shape(df)[1])])\n",
    "    check, output = Bland(array)\n",
    "    Conclusion(check, output, MinMax, log_record)"
   ]
  }
 ],
 "metadata": {
  "kernelspec": {
   "display_name": "Python 3",
   "language": "python",
   "name": "python3"
  },
  "language_info": {
   "codemirror_mode": {
    "name": "ipython",
    "version": 3
   },
   "file_extension": ".py",
   "mimetype": "text/x-python",
   "name": "python",
   "nbconvert_exporter": "python",
   "pygments_lexer": "ipython3",
   "version": "3.10.7"
  },
  "orig_nbformat": 4
 },
 "nbformat": 4,
 "nbformat_minor": 2
}
